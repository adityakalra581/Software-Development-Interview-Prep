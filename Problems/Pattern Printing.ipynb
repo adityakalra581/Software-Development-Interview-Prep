{
 "cells": [
  {
   "cell_type": "code",
   "execution_count": 16,
   "metadata": {},
   "outputs": [
    {
     "name": "stdout",
     "output_type": "stream",
     "text": [
      "# # # #\n",
      "\n",
      "# # # #\n",
      "\n",
      "# # # #\n",
      "\n",
      "# # # #\n"
     ]
    }
   ],
   "source": [
    "# Importance of print() & end=''\n",
    "\n",
    "print(\"# # # #\")\n",
    "print()                 # This will ensure that next print command executed in the next line.\n",
    "print(\"# # # #\")\n",
    "print()\n",
    "print(\"# # # #\")\n",
    "print()\n",
    "print(\"# # # #\")"
   ]
  },
  {
   "cell_type": "code",
   "execution_count": 17,
   "metadata": {},
   "outputs": [
    {
     "name": "stdout",
     "output_type": "stream",
     "text": [
      "##\n"
     ]
    }
   ],
   "source": [
    "print('#',end='')  # End will ensure that next command is in same row with previous one.\n",
    "print('#')"
   ]
  },
  {
   "cell_type": "markdown",
   "metadata": {},
   "source": [
    "## Printing Patterns"
   ]
  },
  {
   "cell_type": "code",
   "execution_count": 18,
   "metadata": {},
   "outputs": [
    {
     "name": "stdout",
     "output_type": "stream",
     "text": [
      "####\n",
      "####\n",
      "####\n",
      "####\n"
     ]
    }
   ],
   "source": [
    "# 1.) Hash Tree.\n",
    "\n",
    "# Printing the pattern without using the above garbage code:\n",
    "\n",
    "for i in range(4):\n",
    "    # the bigger loop is running 4 times\n",
    "    for j in range(4):\n",
    "        # the next loop is running 16 times.\n",
    "        print('#',end='')\n",
    "        # Without end every row will contain a single hash\n",
    "    print()\n",
    "        # & without print() all the hash will be in a single row\n",
    "        # so print() is running 4 times only as it is in the bigger loop.\n",
    "        "
   ]
  },
  {
   "cell_type": "code",
   "execution_count": 19,
   "metadata": {},
   "outputs": [
    {
     "name": "stdout",
     "output_type": "stream",
     "text": [
      "\n",
      "*\n",
      "**\n",
      "***\n",
      "****\n",
      "*****\n"
     ]
    }
   ],
   "source": [
    "# 2.) Right angled Pyramid\n",
    "\n",
    "for i in range(6):\n",
    "    # i will range from 0 to 5.\n",
    "    # As i is starting from 0 therefore the pattern will go upto only 5 stars maximum.\n",
    "    for j in range(i):\n",
    "        # smaller loop is running 15 times.\n",
    "        print('*',end='')\n",
    "    print()"
   ]
  },
  {
   "cell_type": "code",
   "execution_count": 20,
   "metadata": {},
   "outputs": [
    {
     "name": "stdout",
     "output_type": "stream",
     "text": [
      "*********\n",
      "********\n",
      "*******\n",
      "******\n",
      "*****\n",
      "****\n",
      "***\n",
      "**\n",
      "*\n"
     ]
    }
   ],
   "source": [
    "# 3.) Reverse pyramid\n",
    "\n",
    "for i in range(9,0,-1):\n",
    "    \n",
    "    # i is starting from 9 and it goes upto 1\n",
    "    # Reverse loop with step = -1\n",
    "    for j in range(i,0,-1):\n",
    "         # j is starting from 9 and it goes upto 1\n",
    "         # for every one loop of i there are i loop run of j.   \n",
    "        print('*',end='')\n",
    "    print()\n",
    "    "
   ]
  },
  {
   "cell_type": "markdown",
   "metadata": {},
   "source": [
    "## Real Pyramid and it's Image."
   ]
  },
  {
   "cell_type": "code",
   "execution_count": 44,
   "metadata": {},
   "outputs": [
    {
     "name": "stdout",
     "output_type": "stream",
     "text": [
      "5\n",
      "    * \n",
      "   * * \n",
      "  * * * \n",
      " * * * * \n",
      "* * * * * \n",
      "_________\n",
      "\n",
      "* * * * * \n",
      " * * * * \n",
      "  * * * \n",
      "   * * \n",
      "    * \n"
     ]
    }
   ],
   "source": [
    "# 4.) Original Pyramid and it's image:\n",
    "\n",
    "\n",
    "# l is actually the level of the pyramid \n",
    "l=int(input())\n",
    "\n",
    "for i in range(0,l):\n",
    "    \n",
    "    for j in range(0,l-i-1):\n",
    "        # This loop is for empty spaces only\n",
    "        print(' ',end=\"\")\n",
    "    for j in range(0,i+1):\n",
    "        # This loop is for printing stars.\n",
    "        print('*',end=\" \")      # Note end=\" \" the space between the quotes will ensure the spacing b/w two stars.\n",
    "        \n",
    "        # For running the loop in next line.\n",
    "    print()\n",
    "    \n",
    "print(\"_________\")\n",
    "\n",
    "print()\n",
    "\n",
    "\n",
    "\n",
    "# Check carefully \n",
    "# The loop running here are different than above.\n",
    "# Reverse loops with changed initial values.\n",
    "\n",
    "for i in range(l,0,-1):\n",
    "    \n",
    "    for j in range(l-i,0,-1):\n",
    "        # This loop is for empty spaces only\n",
    "        print(' ',end=\"\")\n",
    "    for j in range(i,0,-1):\n",
    "        # This loop is for printing stars.\n",
    "        print('*',end=\" \")      # Note end=\" \" the space between the quotes will ensure the spacing b/w two stars.\n",
    "        \n",
    "        # For running the loop in next line.\n",
    "    print()\n",
    "    \n"
   ]
  },
  {
   "cell_type": "code",
   "execution_count": null,
   "metadata": {},
   "outputs": [],
   "source": []
  }
 ],
 "metadata": {
  "kernelspec": {
   "display_name": "Python 3.8.10 64-bit",
   "language": "python",
   "name": "python3"
  },
  "language_info": {
   "codemirror_mode": {
    "name": "ipython",
    "version": 3
   },
   "file_extension": ".py",
   "mimetype": "text/x-python",
   "name": "python",
   "nbconvert_exporter": "python",
   "pygments_lexer": "ipython3",
   "version": "3.8.10"
  },
  "vscode": {
   "interpreter": {
    "hash": "916dbcbb3f70747c44a77c7bcd40155683ae19c65e1c03b4aa3499c5328201f1"
   }
  }
 },
 "nbformat": 4,
 "nbformat_minor": 2
}
